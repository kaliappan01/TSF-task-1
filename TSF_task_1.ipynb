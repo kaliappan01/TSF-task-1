{
  "nbformat": 4,
  "nbformat_minor": 0,
  "metadata": {
    "colab": {
      "name": "TSF_task_1.ipynb",
      "provenance": [],
      "collapsed_sections": []
    },
    "kernelspec": {
      "name": "python3",
      "display_name": "Python 3"
    },
    "language_info": {
      "name": "python"
    }
  },
  "cells": [
    {
      "cell_type": "markdown",
      "metadata": {
        "id": "QJ1lL_n15AIu"
      },
      "source": [
        "***AUTHOR : KALIAPPAN YADAV***\n",
        "\n",
        "---\n",
        "\n",
        "\n",
        "**TSF TASK 1 : PREDICTING SCORE USING LINEAR REGRESSION**"
      ]
    },
    {
      "cell_type": "code",
      "metadata": {
        "id": "t80bspD30nRu"
      },
      "source": [
        "import numpy as np\n",
        "import pandas as pd\n",
        "from sklearn.linear_model import LinearRegression\n",
        "import matplotlib.pyplot as plt\n",
        "import seaborn as sns\n",
        "from sklearn.metrics import mean_absolute_error,confusion_matrix,mean_squared_error,roc_curve,roc_auc_score\n",
        "from sklearn.pipeline import Pipeline\n",
        "from sklearn.model_selection import train_test_split,cross_val_score"
      ],
      "execution_count": 1,
      "outputs": []
    },
    {
      "cell_type": "code",
      "metadata": {
        "id": "WvWd7O9a16bL"
      },
      "source": [
        "%matplotlib inline"
      ],
      "execution_count": 2,
      "outputs": []
    },
    {
      "cell_type": "markdown",
      "metadata": {
        "id": "wryMqBKkJb0_"
      },
      "source": [
        "**IMPORTING DATA**"
      ]
    },
    {
      "cell_type": "code",
      "metadata": {
        "colab": {
          "base_uri": "https://localhost:8080/",
          "height": 196
        },
        "id": "imu13c8K1PKO",
        "outputId": "78ac761a-f7a9-4685-ce44-54e44173b3f1"
      },
      "source": [
        "data = pd.read_csv(\"http://bit.ly/w-data\")\n",
        "data.head()"
      ],
      "execution_count": 3,
      "outputs": [
        {
          "output_type": "execute_result",
          "data": {
            "text/html": [
              "<div>\n",
              "<style scoped>\n",
              "    .dataframe tbody tr th:only-of-type {\n",
              "        vertical-align: middle;\n",
              "    }\n",
              "\n",
              "    .dataframe tbody tr th {\n",
              "        vertical-align: top;\n",
              "    }\n",
              "\n",
              "    .dataframe thead th {\n",
              "        text-align: right;\n",
              "    }\n",
              "</style>\n",
              "<table border=\"1\" class=\"dataframe\">\n",
              "  <thead>\n",
              "    <tr style=\"text-align: right;\">\n",
              "      <th></th>\n",
              "      <th>Hours</th>\n",
              "      <th>Scores</th>\n",
              "    </tr>\n",
              "  </thead>\n",
              "  <tbody>\n",
              "    <tr>\n",
              "      <th>0</th>\n",
              "      <td>2.5</td>\n",
              "      <td>21</td>\n",
              "    </tr>\n",
              "    <tr>\n",
              "      <th>1</th>\n",
              "      <td>5.1</td>\n",
              "      <td>47</td>\n",
              "    </tr>\n",
              "    <tr>\n",
              "      <th>2</th>\n",
              "      <td>3.2</td>\n",
              "      <td>27</td>\n",
              "    </tr>\n",
              "    <tr>\n",
              "      <th>3</th>\n",
              "      <td>8.5</td>\n",
              "      <td>75</td>\n",
              "    </tr>\n",
              "    <tr>\n",
              "      <th>4</th>\n",
              "      <td>3.5</td>\n",
              "      <td>30</td>\n",
              "    </tr>\n",
              "  </tbody>\n",
              "</table>\n",
              "</div>"
            ],
            "text/plain": [
              "   Hours  Scores\n",
              "0    2.5      21\n",
              "1    5.1      47\n",
              "2    3.2      27\n",
              "3    8.5      75\n",
              "4    3.5      30"
            ]
          },
          "metadata": {
            "tags": []
          },
          "execution_count": 3
        }
      ]
    },
    {
      "cell_type": "markdown",
      "metadata": {
        "id": "2NHe0GNWJiyL"
      },
      "source": [
        "**DATA ANALYSIS**"
      ]
    },
    {
      "cell_type": "code",
      "metadata": {
        "colab": {
          "base_uri": "https://localhost:8080/",
          "height": 286
        },
        "id": "ngZ-Mtk91XXh",
        "outputId": "d0ffac2c-d4b9-42ae-e262-66a996f287cf"
      },
      "source": [
        "data.describe()"
      ],
      "execution_count": 4,
      "outputs": [
        {
          "output_type": "execute_result",
          "data": {
            "text/html": [
              "<div>\n",
              "<style scoped>\n",
              "    .dataframe tbody tr th:only-of-type {\n",
              "        vertical-align: middle;\n",
              "    }\n",
              "\n",
              "    .dataframe tbody tr th {\n",
              "        vertical-align: top;\n",
              "    }\n",
              "\n",
              "    .dataframe thead th {\n",
              "        text-align: right;\n",
              "    }\n",
              "</style>\n",
              "<table border=\"1\" class=\"dataframe\">\n",
              "  <thead>\n",
              "    <tr style=\"text-align: right;\">\n",
              "      <th></th>\n",
              "      <th>Hours</th>\n",
              "      <th>Scores</th>\n",
              "    </tr>\n",
              "  </thead>\n",
              "  <tbody>\n",
              "    <tr>\n",
              "      <th>count</th>\n",
              "      <td>25.000000</td>\n",
              "      <td>25.000000</td>\n",
              "    </tr>\n",
              "    <tr>\n",
              "      <th>mean</th>\n",
              "      <td>5.012000</td>\n",
              "      <td>51.480000</td>\n",
              "    </tr>\n",
              "    <tr>\n",
              "      <th>std</th>\n",
              "      <td>2.525094</td>\n",
              "      <td>25.286887</td>\n",
              "    </tr>\n",
              "    <tr>\n",
              "      <th>min</th>\n",
              "      <td>1.100000</td>\n",
              "      <td>17.000000</td>\n",
              "    </tr>\n",
              "    <tr>\n",
              "      <th>25%</th>\n",
              "      <td>2.700000</td>\n",
              "      <td>30.000000</td>\n",
              "    </tr>\n",
              "    <tr>\n",
              "      <th>50%</th>\n",
              "      <td>4.800000</td>\n",
              "      <td>47.000000</td>\n",
              "    </tr>\n",
              "    <tr>\n",
              "      <th>75%</th>\n",
              "      <td>7.400000</td>\n",
              "      <td>75.000000</td>\n",
              "    </tr>\n",
              "    <tr>\n",
              "      <th>max</th>\n",
              "      <td>9.200000</td>\n",
              "      <td>95.000000</td>\n",
              "    </tr>\n",
              "  </tbody>\n",
              "</table>\n",
              "</div>"
            ],
            "text/plain": [
              "           Hours     Scores\n",
              "count  25.000000  25.000000\n",
              "mean    5.012000  51.480000\n",
              "std     2.525094  25.286887\n",
              "min     1.100000  17.000000\n",
              "25%     2.700000  30.000000\n",
              "50%     4.800000  47.000000\n",
              "75%     7.400000  75.000000\n",
              "max     9.200000  95.000000"
            ]
          },
          "metadata": {
            "tags": []
          },
          "execution_count": 4
        }
      ]
    },
    {
      "cell_type": "code",
      "metadata": {
        "colab": {
          "base_uri": "https://localhost:8080/"
        },
        "id": "PBqJYrAr1a9j",
        "outputId": "acd40158-2daa-43b3-fd6f-24a7d90825ac"
      },
      "source": [
        "data.info()"
      ],
      "execution_count": 5,
      "outputs": [
        {
          "output_type": "stream",
          "text": [
            "<class 'pandas.core.frame.DataFrame'>\n",
            "RangeIndex: 25 entries, 0 to 24\n",
            "Data columns (total 2 columns):\n",
            " #   Column  Non-Null Count  Dtype  \n",
            "---  ------  --------------  -----  \n",
            " 0   Hours   25 non-null     float64\n",
            " 1   Scores  25 non-null     int64  \n",
            "dtypes: float64(1), int64(1)\n",
            "memory usage: 528.0 bytes\n"
          ],
          "name": "stdout"
        }
      ]
    },
    {
      "cell_type": "code",
      "metadata": {
        "id": "eklji7_S1eKA"
      },
      "source": [
        "hours = data.iloc[:,:-1].values\n",
        "scores = data.iloc[:,1].values"
      ],
      "execution_count": 6,
      "outputs": []
    },
    {
      "cell_type": "markdown",
      "metadata": {
        "id": "ogVS1tpG4T0l"
      },
      "source": [
        "***DATA VISUALIZATION***"
      ]
    },
    {
      "cell_type": "code",
      "metadata": {
        "colab": {
          "base_uri": "https://localhost:8080/",
          "height": 400
        },
        "id": "o629d60M0mq8",
        "outputId": "ac829b41-1869-494c-cd06-2c88510f7056"
      },
      "source": [
        "sns.lmplot(x='Hours',y='Scores',data=data)"
      ],
      "execution_count": 7,
      "outputs": [
        {
          "output_type": "execute_result",
          "data": {
            "text/plain": [
              "<seaborn.axisgrid.FacetGrid at 0x7f049b722850>"
            ]
          },
          "metadata": {
            "tags": []
          },
          "execution_count": 7
        },
        {
          "output_type": "display_data",
          "data": {
            "image/png": "[encoded data removed]",
            "text/plain": [
              "<Figure size 360x360 with 1 Axes>"
            ]
          },
          "metadata": {
            "tags": [],
            "needs_background": "light"
          }
        }
      ]
    },
    {
      "cell_type": "markdown",
      "metadata": {
        "id": "WRtZNgLZJtzM"
      },
      "source": [
        "***SPLITTING DATA***"
      ]
    },
    {
      "cell_type": "code",
      "metadata": {
        "colab": {
          "base_uri": "https://localhost:8080/"
        },
        "id": "QaAT_tqQ2A7B",
        "outputId": "e1ce2e27-7e3d-4360-a52a-5c5b2c8a0514"
      },
      "source": [
        "feature_train,feature_test,label_train,label_test = train_test_split(hours,scores,test_size=0.2,random_state=42)\n",
        "print(\"Shapes of the test and validation data \" ,feature_train.shape,feature_test.shape,label_train.shape,label_test.shape)"
      ],
      "execution_count": 8,
      "outputs": [
        {
          "output_type": "stream",
          "text": [
            "Shapes of the test and validation data  (20, 1) (5, 1) (20,) (5,)\n"
          ],
          "name": "stdout"
        }
      ]
    },
    {
      "cell_type": "markdown",
      "metadata": {
        "id": "hgEheZtaJ0HG"
      },
      "source": [
        "**MODEL INITIALIZATION AND TRAINING**"
      ]
    },
    {
      "cell_type": "code",
      "metadata": {
        "id": "5U2jUPU12_hi",
        "colab": {
          "base_uri": "https://localhost:8080/"
        },
        "outputId": "4bab58e5-533d-49e2-83b1-b215f37e1cb0"
      },
      "source": [
        "model = LinearRegression()\n",
        "model.fit(feature_train,label_train)"
      ],
      "execution_count": 9,
      "outputs": [
        {
          "output_type": "execute_result",
          "data": {
            "text/plain": [
              "LinearRegression(copy_X=True, fit_intercept=True, n_jobs=None, normalize=False)"
            ]
          },
          "metadata": {
            "tags": []
          },
          "execution_count": 9
        }
      ]
    },
    {
      "cell_type": "markdown",
      "metadata": {
        "id": "vSbpgSHOQQ-3"
      },
      "source": [
        "**MODEL PREDICTION**"
      ]
    },
    {
      "cell_type": "code",
      "metadata": {
        "id": "g5J6MvY-QKKc"
      },
      "source": [
        "pred = model.predict(feature_test)"
      ],
      "execution_count": 10,
      "outputs": []
    },
    {
      "cell_type": "markdown",
      "metadata": {
        "id": "dvG3nvPKKA68"
      },
      "source": [
        "**PLOTTING THE MODEL'S REGRESSION LINE**"
      ]
    },
    {
      "cell_type": "code",
      "metadata": {
        "colab": {
          "base_uri": "https://localhost:8080/",
          "height": 295
        },
        "id": "YOJU9oNl1uPv",
        "outputId": "4dacc493-0f5a-4f2b-c231-d317707f4b37"
      },
      "source": [
        "reg_line = model.coef_*hours+model.intercept_\n",
        "plt.scatter(hours, scores)\n",
        "plt.title(\"HOURS OF STUDY VS SCORES\")\n",
        "plt.xlabel(\"HOURS OF STUDY\")\n",
        "plt.ylabel(\"SCORE\")\n",
        "plt.plot(hours, reg_line);\n",
        "plt.show()"
      ],
      "execution_count": 11,
      "outputs": [
        {
          "output_type": "display_data",
          "data": {
            "image/png": "[encoded data removed]",
            "text/plain": [
              "<Figure size 432x288 with 1 Axes>"
            ]
          },
          "metadata": {
            "tags": [],
            "needs_background": "light"
          }
        }
      ]
    },
    {
      "cell_type": "markdown",
      "metadata": {
        "id": "l7dz-vp3KHNH"
      },
      "source": [
        "***PREDICTING SCORE***"
      ]
    },
    {
      "cell_type": "code",
      "metadata": {
        "colab": {
          "base_uri": "https://localhost:8080/"
        },
        "id": "AsfMcF1v8biM",
        "outputId": "10f8d1e4-bd80-4d24-dfad-9a47c14d9385"
      },
      "source": [
        "test=[[9.25]]\n",
        "result = model.predict(test)\n",
        "print(\"If a Student studies for 9.25hrs per day he/she will score \",*result)"
      ],
      "execution_count": 12,
      "outputs": [
        {
          "output_type": "stream",
          "text": [
            "If a Student studies for 9.25hrs per day he/she will score  92.38611528261494\n"
          ],
          "name": "stdout"
        }
      ]
    },
    {
      "cell_type": "markdown",
      "metadata": {
        "id": "oo6UvDsGKRPv"
      },
      "source": [
        "***ANALYSING THE PREDICTION***"
      ]
    },
    {
      "cell_type": "code",
      "metadata": {
        "colab": {
          "base_uri": "https://localhost:8080/",
          "height": 196
        },
        "id": "9A6D_DzQ5Mxe",
        "outputId": "d0a76526-1cbf-44c9-9ef0-a7b0fc55ef9a"
      },
      "source": [
        "report = pd.DataFrame({'Actual_score':label_test,'Predicted_score ':pred})\n",
        "report"
      ],
      "execution_count": 13,
      "outputs": [
        {
          "output_type": "execute_result",
          "data": {
            "text/html": [
              "<div>\n",
              "<style scoped>\n",
              "    .dataframe tbody tr th:only-of-type {\n",
              "        vertical-align: middle;\n",
              "    }\n",
              "\n",
              "    .dataframe tbody tr th {\n",
              "        vertical-align: top;\n",
              "    }\n",
              "\n",
              "    .dataframe thead th {\n",
              "        text-align: right;\n",
              "    }\n",
              "</style>\n",
              "<table border=\"1\" class=\"dataframe\">\n",
              "  <thead>\n",
              "    <tr style=\"text-align: right;\">\n",
              "      <th></th>\n",
              "      <th>Actual_score</th>\n",
              "      <th>Predicted_score</th>\n",
              "    </tr>\n",
              "  </thead>\n",
              "  <tbody>\n",
              "    <tr>\n",
              "      <th>0</th>\n",
              "      <td>81</td>\n",
              "      <td>83.188141</td>\n",
              "    </tr>\n",
              "    <tr>\n",
              "      <th>1</th>\n",
              "      <td>30</td>\n",
              "      <td>27.032088</td>\n",
              "    </tr>\n",
              "    <tr>\n",
              "      <th>2</th>\n",
              "      <td>21</td>\n",
              "      <td>27.032088</td>\n",
              "    </tr>\n",
              "    <tr>\n",
              "      <th>3</th>\n",
              "      <td>76</td>\n",
              "      <td>69.633232</td>\n",
              "    </tr>\n",
              "    <tr>\n",
              "      <th>4</th>\n",
              "      <td>62</td>\n",
              "      <td>59.951153</td>\n",
              "    </tr>\n",
              "  </tbody>\n",
              "</table>\n",
              "</div>"
            ],
            "text/plain": [
              "   Actual_score  Predicted_score \n",
              "0            81         83.188141\n",
              "1            30         27.032088\n",
              "2            21         27.032088\n",
              "3            76         69.633232\n",
              "4            62         59.951153"
            ]
          },
          "metadata": {
            "tags": []
          },
          "execution_count": 13
        }
      ]
    },
    {
      "cell_type": "markdown",
      "metadata": {
        "id": "Wfyr6JDVKb-Y"
      },
      "source": [
        "***EVALUATION OF MODEL***"
      ]
    },
    {
      "cell_type": "code",
      "metadata": {
        "colab": {
          "base_uri": "https://localhost:8080/"
        },
        "id": "k-_hoFu9NsnX",
        "outputId": "a841d2d4-3bb7-453e-9e39-34b8ed095a60"
      },
      "source": [
        "model.score(feature_test,label_test)"
      ],
      "execution_count": 14,
      "outputs": [
        {
          "output_type": "execute_result",
          "data": {
            "text/plain": [
              "0.9678055545167994"
            ]
          },
          "metadata": {
            "tags": []
          },
          "execution_count": 14
        }
      ]
    },
    {
      "cell_type": "code",
      "metadata": {
        "colab": {
          "base_uri": "https://localhost:8080/"
        },
        "id": "0rTSy2ChGX4p",
        "outputId": "5705d2dc-5f73-4cdf-dceb-22b2d5df8d83"
      },
      "source": [
        "print(\"Mean Absolute error : \",mean_absolute_error(label_test, pred))\n",
        "print(\"Mean Squared error : \",mean_squared_error(label_test, pred))\n",
        "print(\"Root Mean Squared error : \",np.sqrt(mean_squared_error(label_test, pred)))"
      ],
      "execution_count": 15,
      "outputs": [
        {
          "output_type": "stream",
          "text": [
            "Mean Absolute error :  3.9207511902099244\n",
            "Mean Squared error :  18.943211722315272\n",
            "Root Mean Squared error :  4.352380006653288\n"
          ],
          "name": "stdout"
        }
      ]
    },
    {
      "cell_type": "markdown",
      "metadata": {
        "id": "sDN4Wbexzy2v"
      },
      "source": [
        "# PIPELINE\n"
      ]
    },
    {
      "cell_type": "code",
      "metadata": {
        "id": "gapPZMUHAAwj"
      },
      "source": [
        "model_2 = LinearRegression()"
      ],
      "execution_count": 16,
      "outputs": []
    },
    {
      "cell_type": "code",
      "metadata": {
        "colab": {
          "base_uri": "https://localhost:8080/"
        },
        "id": "VOiX3d0j3qhG",
        "outputId": "d6547b96-0e43-41ed-a726-68c4a222cfaf"
      },
      "source": [
        "my_pipeline = Pipeline(steps = [('model',model_2)])\n",
        "my_pipeline.fit(feature_train,label_train)\n",
        "pred_2 = my_pipeline.predict(feature_test)\n",
        "print(\"Pipeline score : \",my_pipeline.score(feature_test,label_test))"
      ],
      "execution_count": 17,
      "outputs": [
        {
          "output_type": "stream",
          "text": [
            "Pipeline score :  0.9678055545167994\n"
          ],
          "name": "stdout"
        }
      ]
    },
    {
      "cell_type": "markdown",
      "metadata": {
        "id": "2ViCfvr80CYG"
      },
      "source": [
        "**EVALUATING THE PIPELINE**\n"
      ]
    },
    {
      "cell_type": "code",
      "metadata": {
        "colab": {
          "base_uri": "https://localhost:8080/"
        },
        "id": "MUFmd8ZqzDvw",
        "outputId": "accc36a9-b95d-4b80-afe8-78c4dbbfd572"
      },
      "source": [
        "print(\"Mean Absolute error : \",mean_absolute_error(label_test, pred_2))\n",
        "print(\"Mean Squared error : \",mean_squared_error(label_test, pred_2))\n",
        "print(\"Root Mean Squared error : \",np.sqrt(mean_squared_error(label_test, pred_2)))"
      ],
      "execution_count": 18,
      "outputs": [
        {
          "output_type": "stream",
          "text": [
            "Mean Absolute error :  3.9207511902099244\n",
            "Mean Squared error :  18.943211722315272\n",
            "Root Mean Squared error :  4.352380006653288\n"
          ],
          "name": "stdout"
        }
      ]
    }
  ]
}
